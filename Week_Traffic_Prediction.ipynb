{
 "cells": [
  {
   "cell_type": "code",
   "execution_count": null,
   "metadata": {},
   "outputs": [
    {
     "ename": "XMLSyntaxError",
     "evalue": "Document is empty, line 1, column 1 (<string>, line 1)",
     "output_type": "error",
     "traceback": [
      "Traceback \u001b[0;36m(most recent call last)\u001b[0m:\n",
      "\u001b[0m  File \u001b[1;32m~/anaconda3/lib/python3.12/site-packages/IPython/core/interactiveshell.py:3577\u001b[0m in \u001b[1;35mrun_code\u001b[0m\n    exec(code_obj, self.user_global_ns, self.user_ns)\u001b[0m\n",
      "\u001b[0m  Cell \u001b[1;32mIn[1], line 5\u001b[0m\n    Saturday = pd.read_xml(r\"/home/benjamin/Documents/Ensicaen/3A_riga/Cours/Telecom-software/Task 5/labeled_flows_xml/TestbedSatJun12Flows.xml\")\u001b[0m\n",
      "\u001b[0m  File \u001b[1;32m~/anaconda3/lib/python3.12/site-packages/pandas/io/xml.py:1160\u001b[0m in \u001b[1;35mread_xml\u001b[0m\n    return _parse(\u001b[0m\n",
      "\u001b[0m  File \u001b[1;32m~/anaconda3/lib/python3.12/site-packages/pandas/io/xml.py:852\u001b[0m in \u001b[1;35m_parse\u001b[0m\n    data_dicts = p.parse_data()\u001b[0m\n",
      "\u001b[0m  File \u001b[1;32m~/anaconda3/lib/python3.12/site-packages/pandas/io/xml.py:556\u001b[0m in \u001b[1;35mparse_data\u001b[0m\n    self.xml_doc = self._parse_doc(self.path_or_buffer)\u001b[0m\n",
      "\u001b[0m  File \u001b[1;32m~/anaconda3/lib/python3.12/site-packages/pandas/io/xml.py:647\u001b[0m in \u001b[1;35m_parse_doc\u001b[0m\n    document = fromstring(\u001b[0m\n",
      "\u001b[0m  File \u001b[1;32msrc/lxml/etree.pyx:3287\u001b[0m in \u001b[1;35mlxml.etree.fromstring\u001b[0m\n",
      "\u001b[0m  File \u001b[1;32msrc/lxml/parser.pxi:1989\u001b[0m in \u001b[1;35mlxml.etree._parseMemoryDocument\u001b[0m\n",
      "\u001b[0m  File \u001b[1;32msrc/lxml/parser.pxi:1876\u001b[0m in \u001b[1;35mlxml.etree._parseDoc\u001b[0m\n",
      "\u001b[0m  File \u001b[1;32msrc/lxml/parser.pxi:1164\u001b[0m in \u001b[1;35mlxml.etree._BaseParser._parseDoc\u001b[0m\n",
      "\u001b[0m  File \u001b[1;32msrc/lxml/parser.pxi:633\u001b[0m in \u001b[1;35mlxml.etree._ParserContext._handleParseResultDoc\u001b[0m\n",
      "\u001b[0m  File \u001b[1;32msrc/lxml/parser.pxi:743\u001b[0m in \u001b[1;35mlxml.etree._handleParseResult\u001b[0m\n",
      "\u001b[0;36m  File \u001b[0;32msrc/lxml/parser.pxi:672\u001b[0;36m in \u001b[0;35mlxml.etree._raiseParseError\u001b[0;36m\n",
      "\u001b[0;36m  File \u001b[0;32m<string>:1\u001b[0;36m\u001b[0m\n\u001b[0;31mXMLSyntaxError\u001b[0m\u001b[0;31m:\u001b[0m Document is empty, line 1, column 1\n"
     ]
    }
   ],
   "source": [
    "import pandas as pd\n",
    "import numpy as np\n",
    "import matplotlib.pyplot as plt\n",
    "\n",
    "Saturday = pd.read_xml(r\"/home/benjamin/Documents/Ensicaen/3A_riga/Cours/Telecom-software/Task 5/labeled_flows_xml/TestbedSatJun12Flows.xml\")\n",
    "Sunday = pd.read_xml(r\"/home/benjamin/Documents/Ensicaen/3A_riga/Cours/Telecom-software/Task 5/labeled_flows_xml/TestbedSunJun13Flows.xml\")\n",
    "Monday = pd.read_xml(r\"/home/benjamin/Documents/Ensicaen/3A_riga/Cours/Telecom-software/Task 5/labeled_flows_xml/TestbedMonJun14Flows.xml\")\n",
    "Tuesday1 = pd.read_xml(r\"/home/benjamin/Documents/Ensicaen/3A_riga/Cours/Telecom-software/Task 5/labeled_flows_xml/TestbedTueJun15-1Flows.xml\")\n",
    "Tuesday2 = pd.read_xml(r\"/home/benjamin/Documents/Ensicaen/3A_riga/Cours/Telecom-software/Task 5/labeled_flows_xml/TestbedTueJun15-2Flows.xml\")\n",
    "Tuesday3 = pd.read_xml(r\"/home/benjamin/Documents/Ensicaen/3A_riga/Cours/Telecom-software/Task 5/labeled_flows_xml/TestbedTueJun15-3Flows.xml\")\n",
    "Tuesday = pd.concat([Tuesday1, Tuesday2, Tuesday3], ignore_index=True)\n",
    "\n",
    "Wednesday1 = pd.read_xml(r\"/home/benjamin/Documents/Ensicaen/3A_riga/Cours/Telecom-software/Task 5/labeled_flows_xml/TestbedWedJun16-1Flows.xml\")\n",
    "Wednesday2 = pd.read_xml(r\"/home/benjamin/Documents/Ensicaen/3A_riga/Cours/Telecom-software/Task 5/labeled_flows_xml/TestbedWedJun16-2Flows.xml\")\n",
    "Wednesday3 = pd.read_xml(r\"/home/benjamin/Documents/Ensicaen/3A_riga/Cours/Telecom-software/Task 5/labeled_flows_xml/TestbedWedJun16-3Flows.xml\")\n",
    "Wednesday = pd.concat([Wednesday1, Wednesday2, Wednesday3], ignore_index=True)\n",
    "\n",
    "Thursday2 = pd.read_xml(r\"/home/benjamin/Documents/Ensicaen/3A_riga/Cours/Telecom-software/Task 5/labeled_flows_xml/TestbedThuJun17-2Flows.xml\")\n",
    "Thursday3 = pd.read_xml(r\"/home/benjamin/Documents/Ensicaen/3A_riga/Cours/Telecom-software/Task 5/labeled_flows_xml/TestbedThuJun17-3Flows.xml\")\n",
    "Thursday = pd.concat([Thursday2, Thursday3], ignore_index=True)\n",
    "\n",
    "Week = [Saturday, Sunday, Monday, Tuesday, Wednesday, Thursday]\n",
    "Label = ['Saturday', 'Sunday', 'Monday', 'Tuesday', 'Wednesday', 'Thursday']\n",
    "merged_data = []\n"
   ]
  }
 ],
 "metadata": {
  "kernelspec": {
   "display_name": "base",
   "language": "python",
   "name": "python3"
  },
  "language_info": {
   "codemirror_mode": {
    "name": "ipython",
    "version": 3
   },
   "file_extension": ".py",
   "mimetype": "text/x-python",
   "name": "python",
   "nbconvert_exporter": "python",
   "pygments_lexer": "ipython3",
   "version": "3.12.2"
  }
 },
 "nbformat": 4,
 "nbformat_minor": 2
}
